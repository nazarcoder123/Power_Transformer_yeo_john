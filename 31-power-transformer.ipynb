{
 "cells": [
  {
   "cell_type": "code",
   "execution_count": 1,
   "id": "9abe9dc6",
   "metadata": {
    "execution": {
     "iopub.execute_input": "2023-03-02T16:54:24.687087Z",
     "iopub.status.busy": "2023-03-02T16:54:24.685691Z",
     "iopub.status.idle": "2023-03-02T16:54:26.333152Z",
     "shell.execute_reply": "2023-03-02T16:54:26.331737Z"
    },
    "papermill": {
     "duration": 1.658704,
     "end_time": "2023-03-02T16:54:26.336610",
     "exception": false,
     "start_time": "2023-03-02T16:54:24.677906",
     "status": "completed"
    },
    "tags": []
   },
   "outputs": [],
   "source": [
    "import pandas as pd\n",
    "import numpy as np\n",
    "import matplotlib.pyplot as plt\n",
    "import seaborn as sns\n",
    "\n",
    "from sklearn.preprocessing import PowerTransformer\n",
    "from sklearn.model_selection import train_test_split,cross_val_score\n",
    "from sklearn.linear_model import LinearRegression\n",
    "from sklearn.metrics import r2_score"
   ]
  },
  {
   "cell_type": "code",
   "execution_count": 2,
   "id": "78fc0760",
   "metadata": {
    "execution": {
     "iopub.execute_input": "2023-03-02T16:54:26.348590Z",
     "iopub.status.busy": "2023-03-02T16:54:26.347788Z",
     "iopub.status.idle": "2023-03-02T16:54:26.369872Z",
     "shell.execute_reply": "2023-03-02T16:54:26.368254Z"
    },
    "papermill": {
     "duration": 0.031052,
     "end_time": "2023-03-02T16:54:26.372738",
     "exception": false,
     "start_time": "2023-03-02T16:54:26.341686",
     "status": "completed"
    },
    "tags": []
   },
   "outputs": [],
   "source": [
    "df = pd.read_csv(\"/kaggle/input/concrete-data/Concrete_Data.csv\")"
   ]
  },
  {
   "cell_type": "code",
   "execution_count": 3,
   "id": "8498b496",
   "metadata": {
    "execution": {
     "iopub.execute_input": "2023-03-02T16:54:26.384508Z",
     "iopub.status.busy": "2023-03-02T16:54:26.384049Z",
     "iopub.status.idle": "2023-03-02T16:54:26.419987Z",
     "shell.execute_reply": "2023-03-02T16:54:26.418771Z"
    },
    "papermill": {
     "duration": 0.046353,
     "end_time": "2023-03-02T16:54:26.424036",
     "exception": false,
     "start_time": "2023-03-02T16:54:26.377683",
     "status": "completed"
    },
    "tags": []
   },
   "outputs": [
    {
     "data": {
      "text/html": [
       "<div>\n",
       "<style scoped>\n",
       "    .dataframe tbody tr th:only-of-type {\n",
       "        vertical-align: middle;\n",
       "    }\n",
       "\n",
       "    .dataframe tbody tr th {\n",
       "        vertical-align: top;\n",
       "    }\n",
       "\n",
       "    .dataframe thead th {\n",
       "        text-align: right;\n",
       "    }\n",
       "</style>\n",
       "<table border=\"1\" class=\"dataframe\">\n",
       "  <thead>\n",
       "    <tr style=\"text-align: right;\">\n",
       "      <th></th>\n",
       "      <th>Cement (component 1)(kg in a m^3 mixture)</th>\n",
       "      <th>Blast Furnace Slag (component 2)(kg in a m^3 mixture)</th>\n",
       "      <th>Fly Ash (component 3)(kg in a m^3 mixture)</th>\n",
       "      <th>Water  (component 4)(kg in a m^3 mixture)</th>\n",
       "      <th>Superplasticizer (component 5)(kg in a m^3 mixture)</th>\n",
       "      <th>Coarse Aggregate  (component 6)(kg in a m^3 mixture)</th>\n",
       "      <th>Fine Aggregate (component 7)(kg in a m^3 mixture)</th>\n",
       "      <th>Age (day)</th>\n",
       "      <th>Concrete compressive strength(MPa, megapascals)</th>\n",
       "    </tr>\n",
       "  </thead>\n",
       "  <tbody>\n",
       "    <tr>\n",
       "      <th>0</th>\n",
       "      <td>540.0</td>\n",
       "      <td>0.0</td>\n",
       "      <td>0.0</td>\n",
       "      <td>162.0</td>\n",
       "      <td>2.5</td>\n",
       "      <td>1040.0</td>\n",
       "      <td>676.0</td>\n",
       "      <td>28</td>\n",
       "      <td>79.99</td>\n",
       "    </tr>\n",
       "    <tr>\n",
       "      <th>1</th>\n",
       "      <td>540.0</td>\n",
       "      <td>0.0</td>\n",
       "      <td>0.0</td>\n",
       "      <td>162.0</td>\n",
       "      <td>2.5</td>\n",
       "      <td>1055.0</td>\n",
       "      <td>676.0</td>\n",
       "      <td>28</td>\n",
       "      <td>61.89</td>\n",
       "    </tr>\n",
       "    <tr>\n",
       "      <th>2</th>\n",
       "      <td>332.5</td>\n",
       "      <td>142.5</td>\n",
       "      <td>0.0</td>\n",
       "      <td>228.0</td>\n",
       "      <td>0.0</td>\n",
       "      <td>932.0</td>\n",
       "      <td>594.0</td>\n",
       "      <td>270</td>\n",
       "      <td>40.27</td>\n",
       "    </tr>\n",
       "    <tr>\n",
       "      <th>3</th>\n",
       "      <td>332.5</td>\n",
       "      <td>142.5</td>\n",
       "      <td>0.0</td>\n",
       "      <td>228.0</td>\n",
       "      <td>0.0</td>\n",
       "      <td>932.0</td>\n",
       "      <td>594.0</td>\n",
       "      <td>365</td>\n",
       "      <td>41.05</td>\n",
       "    </tr>\n",
       "    <tr>\n",
       "      <th>4</th>\n",
       "      <td>198.6</td>\n",
       "      <td>132.4</td>\n",
       "      <td>0.0</td>\n",
       "      <td>192.0</td>\n",
       "      <td>0.0</td>\n",
       "      <td>978.4</td>\n",
       "      <td>825.5</td>\n",
       "      <td>360</td>\n",
       "      <td>44.30</td>\n",
       "    </tr>\n",
       "  </tbody>\n",
       "</table>\n",
       "</div>"
      ],
      "text/plain": [
       "   Cement (component 1)(kg in a m^3 mixture)  \\\n",
       "0                                      540.0   \n",
       "1                                      540.0   \n",
       "2                                      332.5   \n",
       "3                                      332.5   \n",
       "4                                      198.6   \n",
       "\n",
       "   Blast Furnace Slag (component 2)(kg in a m^3 mixture)  \\\n",
       "0                                                0.0       \n",
       "1                                                0.0       \n",
       "2                                              142.5       \n",
       "3                                              142.5       \n",
       "4                                              132.4       \n",
       "\n",
       "   Fly Ash (component 3)(kg in a m^3 mixture)  \\\n",
       "0                                         0.0   \n",
       "1                                         0.0   \n",
       "2                                         0.0   \n",
       "3                                         0.0   \n",
       "4                                         0.0   \n",
       "\n",
       "   Water  (component 4)(kg in a m^3 mixture)  \\\n",
       "0                                      162.0   \n",
       "1                                      162.0   \n",
       "2                                      228.0   \n",
       "3                                      228.0   \n",
       "4                                      192.0   \n",
       "\n",
       "   Superplasticizer (component 5)(kg in a m^3 mixture)  \\\n",
       "0                                                2.5     \n",
       "1                                                2.5     \n",
       "2                                                0.0     \n",
       "3                                                0.0     \n",
       "4                                                0.0     \n",
       "\n",
       "   Coarse Aggregate  (component 6)(kg in a m^3 mixture)  \\\n",
       "0                                             1040.0      \n",
       "1                                             1055.0      \n",
       "2                                              932.0      \n",
       "3                                              932.0      \n",
       "4                                              978.4      \n",
       "\n",
       "   Fine Aggregate (component 7)(kg in a m^3 mixture)  Age (day)  \\\n",
       "0                                              676.0         28   \n",
       "1                                              676.0         28   \n",
       "2                                              594.0        270   \n",
       "3                                              594.0        365   \n",
       "4                                              825.5        360   \n",
       "\n",
       "   Concrete compressive strength(MPa, megapascals)   \n",
       "0                                             79.99  \n",
       "1                                             61.89  \n",
       "2                                             40.27  \n",
       "3                                             41.05  \n",
       "4                                             44.30  "
      ]
     },
     "execution_count": 3,
     "metadata": {},
     "output_type": "execute_result"
    }
   ],
   "source": [
    "df.head()"
   ]
  },
  {
   "cell_type": "code",
   "execution_count": 4,
   "id": "ebed722b",
   "metadata": {
    "execution": {
     "iopub.execute_input": "2023-03-02T16:54:26.436688Z",
     "iopub.status.busy": "2023-03-02T16:54:26.436251Z",
     "iopub.status.idle": "2023-03-02T16:54:26.444347Z",
     "shell.execute_reply": "2023-03-02T16:54:26.442722Z"
    },
    "papermill": {
     "duration": 0.017529,
     "end_time": "2023-03-02T16:54:26.447079",
     "exception": false,
     "start_time": "2023-03-02T16:54:26.429550",
     "status": "completed"
    },
    "tags": []
   },
   "outputs": [],
   "source": [
    "# Now lets divided the independent and dependent variable\n",
    "x = df.iloc[:,0:8]\n",
    "y = df.iloc[:,-1]"
   ]
  },
  {
   "cell_type": "code",
   "execution_count": 5,
   "id": "7ebde222",
   "metadata": {
    "execution": {
     "iopub.execute_input": "2023-03-02T16:54:26.459365Z",
     "iopub.status.busy": "2023-03-02T16:54:26.458909Z",
     "iopub.status.idle": "2023-03-02T16:54:26.470704Z",
     "shell.execute_reply": "2023-03-02T16:54:26.469236Z"
    },
    "papermill": {
     "duration": 0.021618,
     "end_time": "2023-03-02T16:54:26.473874",
     "exception": false,
     "start_time": "2023-03-02T16:54:26.452256",
     "status": "completed"
    },
    "tags": []
   },
   "outputs": [],
   "source": [
    "# Now lets split the data into train_test_split\n",
    "x_train,x_test,y_train,y_test = train_test_split(x,y,test_size=0.2,random_state=42)"
   ]
  },
  {
   "cell_type": "code",
   "execution_count": 6,
   "id": "337dfce4",
   "metadata": {
    "execution": {
     "iopub.execute_input": "2023-03-02T16:54:26.486294Z",
     "iopub.status.busy": "2023-03-02T16:54:26.485509Z",
     "iopub.status.idle": "2023-03-02T16:54:26.515455Z",
     "shell.execute_reply": "2023-03-02T16:54:26.513993Z"
    },
    "papermill": {
     "duration": 0.039133,
     "end_time": "2023-03-02T16:54:26.518148",
     "exception": false,
     "start_time": "2023-03-02T16:54:26.479015",
     "status": "completed"
    },
    "tags": []
   },
   "outputs": [
    {
     "data": {
      "text/plain": [
       "array([59.65804162, 52.0412113 , 63.53513339, 51.57545676, 17.22001733,\n",
       "       39.86561321, 26.6982471 , 44.73648869, 29.36619785, 38.18612542,\n",
       "       27.76438338, 19.81055461, 66.8940356 , 52.28562112, 29.96928612,\n",
       "       44.45926401, 29.2284856 , 26.53340084, 31.98162681, 32.03208356,\n",
       "       36.82327256, 31.77175527, 38.07286862, 25.12353728, 33.0993284 ,\n",
       "       33.85670933, 14.24140345, 40.33250901, 41.88282591, 21.33261142,\n",
       "       35.71648095, 30.96693001, 43.87446203, 45.52648807, 30.7629146 ,\n",
       "       29.59299935, 28.90650584, 38.85005738, 20.34631763, 38.45267413,\n",
       "       21.16537625, 15.88280149, 31.06077771, 50.70684031, 20.26957631,\n",
       "       57.64501168, 50.90245564, 60.96378987, 20.00393916, 19.22241454,\n",
       "       40.4816289 , 36.23627397, 30.01525382, 33.42739866, 46.66492833,\n",
       "       51.47376399, 27.73605695, 15.69651113, 29.69654891, 18.12447629,\n",
       "       38.63227644, 20.52725493, 31.56412397, 55.48969297, 22.93752175,\n",
       "       21.34689286, 32.26933604, 16.70816961, 25.40482587, 25.56327425,\n",
       "       17.83478081, 18.51545189, 13.0590327 , 27.71461739, 28.60182091,\n",
       "       19.97722078, 60.05545831, 44.65212951, 54.60286692, 23.51040084,\n",
       "       43.65428481, 48.70290486, 32.25222559, 28.06238177, 68.83281957,\n",
       "       51.57545676, 34.71226762, 33.43773349, 26.65762424, 21.5504013 ,\n",
       "       26.8599765 , 60.9152622 , 23.86532302, 42.19874211, 39.66563279,\n",
       "       47.80153786, 27.86014621, 28.05980515, 27.38008993, 28.94316506,\n",
       "       30.40033148, 39.73160746, 46.29813025, 28.93773461, 77.14063554,\n",
       "       14.2148947 , 41.42025008, 29.55474618, 33.49924414, 50.40113471,\n",
       "       64.61323923, 39.11375766, 27.147788  , 33.98570187, 47.04336774,\n",
       "       55.98758609, 22.25824589, 41.00640036, 42.73039806, 39.70214572,\n",
       "       34.37806121, 23.189194  , 37.62400019, 27.96373904, 25.83967754,\n",
       "       31.54804694, 48.53422745, 55.06428337, 36.27571952, 32.15517665,\n",
       "       15.56123487, 34.22333496, 14.35064592, 60.30296448, 14.56865472,\n",
       "       57.77114918, 25.95042602, 33.10577881, 32.18423678, 33.52234859,\n",
       "       29.27112238, 33.08238627, 28.68846113, 26.70428985, 47.24714987,\n",
       "       36.86152869, 27.78513879, 18.68975487, 19.88056308, 19.70133316,\n",
       "       35.85347586, 25.37821613, 47.42309013, 27.64098148, 38.14904177,\n",
       "       33.74322519, 27.65225476, 67.86304097, 52.0412113 , 40.32615748,\n",
       "       21.39637095, 58.52749379, 33.18244592, 49.78862129, 54.59852882,\n",
       "       52.74886089, 37.80573647, 25.37693229, 50.28209295, 33.44194103,\n",
       "       36.20567627, 25.85460365, 23.10081521, 34.46361047, 39.74202824,\n",
       "       20.27338576, 23.37589645, 39.52882954, 40.53663031, 41.94224993,\n",
       "       36.17178706, 26.38639057, 50.29175278, 42.40212986, 37.14290631,\n",
       "       48.99378792, 21.22647868, 31.17790299, 46.6313471 , 20.9909671 ,\n",
       "       46.95733559, 37.65470415, 35.70740759, 48.47605927, 55.20981881,\n",
       "       31.40652741, 40.40318811, 25.49212525, 22.4209302 , 22.25576596,\n",
       "       37.9863259 , 55.98758609, 17.47962061, 49.08652223, 54.18155242,\n",
       "       31.46277272])"
      ]
     },
     "execution_count": 6,
     "metadata": {},
     "output_type": "execute_result"
    }
   ],
   "source": [
    "# Now lets perform the lr\n",
    "lr = LinearRegression()\n",
    "lr.fit(x_train,y_train)\n",
    "lr.predict(x_test)"
   ]
  },
  {
   "cell_type": "code",
   "execution_count": 7,
   "id": "cd64f9af",
   "metadata": {
    "execution": {
     "iopub.execute_input": "2023-03-02T16:54:26.531135Z",
     "iopub.status.busy": "2023-03-02T16:54:26.530668Z",
     "iopub.status.idle": "2023-03-02T16:54:26.538956Z",
     "shell.execute_reply": "2023-03-02T16:54:26.537185Z"
    },
    "papermill": {
     "duration": 0.018053,
     "end_time": "2023-03-02T16:54:26.541559",
     "exception": false,
     "start_time": "2023-03-02T16:54:26.523506",
     "status": "completed"
    },
    "tags": []
   },
   "outputs": [],
   "source": [
    "y_pred = lr.predict(x_test)"
   ]
  },
  {
   "cell_type": "code",
   "execution_count": 8,
   "id": "8b9d0e5c",
   "metadata": {
    "execution": {
     "iopub.execute_input": "2023-03-02T16:54:26.554350Z",
     "iopub.status.busy": "2023-03-02T16:54:26.553938Z",
     "iopub.status.idle": "2023-03-02T16:54:26.561557Z",
     "shell.execute_reply": "2023-03-02T16:54:26.560645Z"
    },
    "papermill": {
     "duration": 0.01705,
     "end_time": "2023-03-02T16:54:26.563992",
     "exception": false,
     "start_time": "2023-03-02T16:54:26.546942",
     "status": "completed"
    },
    "tags": []
   },
   "outputs": [
    {
     "data": {
      "text/plain": [
       "0.42317047978909783"
      ]
     },
     "execution_count": 8,
     "metadata": {},
     "output_type": "execute_result"
    }
   ],
   "source": [
    "r2_score(y_pred,y_test)"
   ]
  },
  {
   "cell_type": "code",
   "execution_count": 9,
   "id": "d5da6c89",
   "metadata": {
    "execution": {
     "iopub.execute_input": "2023-03-02T16:54:26.576881Z",
     "iopub.status.busy": "2023-03-02T16:54:26.576403Z",
     "iopub.status.idle": "2023-03-02T16:54:26.614449Z",
     "shell.execute_reply": "2023-03-02T16:54:26.613158Z"
    },
    "papermill": {
     "duration": 0.047507,
     "end_time": "2023-03-02T16:54:26.617076",
     "exception": false,
     "start_time": "2023-03-02T16:54:26.569569",
     "status": "completed"
    },
    "tags": []
   },
   "outputs": [
    {
     "data": {
      "text/plain": [
       "0.594605539199253"
      ]
     },
     "execution_count": 9,
     "metadata": {},
     "output_type": "execute_result"
    }
   ],
   "source": [
    "cross_val_score(lr,x_train,y_train,scoring='r2').mean()"
   ]
  },
  {
   "cell_type": "code",
   "execution_count": 10,
   "id": "eca60879",
   "metadata": {
    "execution": {
     "iopub.execute_input": "2023-03-02T16:54:26.629576Z",
     "iopub.status.busy": "2023-03-02T16:54:26.629118Z",
     "iopub.status.idle": "2023-03-02T16:54:26.634690Z",
     "shell.execute_reply": "2023-03-02T16:54:26.633423Z"
    },
    "papermill": {
     "duration": 0.014804,
     "end_time": "2023-03-02T16:54:26.637216",
     "exception": false,
     "start_time": "2023-03-02T16:54:26.622412",
     "status": "completed"
    },
    "tags": []
   },
   "outputs": [],
   "source": [
    "# Now lets perform the yeo-john method\n",
    "pt = PowerTransformer()"
   ]
  },
  {
   "cell_type": "code",
   "execution_count": 11,
   "id": "8319bf00",
   "metadata": {
    "execution": {
     "iopub.execute_input": "2023-03-02T16:54:26.650706Z",
     "iopub.status.busy": "2023-03-02T16:54:26.649519Z",
     "iopub.status.idle": "2023-03-02T16:54:26.703409Z",
     "shell.execute_reply": "2023-03-02T16:54:26.702106Z"
    },
    "papermill": {
     "duration": 0.063519,
     "end_time": "2023-03-02T16:54:26.706322",
     "exception": false,
     "start_time": "2023-03-02T16:54:26.642803",
     "status": "completed"
    },
    "tags": []
   },
   "outputs": [],
   "source": [
    "x_train_transformed = pt.fit_transform(x_train)\n",
    "x_test_transformed = pt.fit_transform(x_test)"
   ]
  },
  {
   "cell_type": "code",
   "execution_count": 12,
   "id": "0e993258",
   "metadata": {
    "execution": {
     "iopub.execute_input": "2023-03-02T16:54:26.719483Z",
     "iopub.status.busy": "2023-03-02T16:54:26.719021Z",
     "iopub.status.idle": "2023-03-02T16:54:26.732186Z",
     "shell.execute_reply": "2023-03-02T16:54:26.730615Z"
    },
    "papermill": {
     "duration": 0.022793,
     "end_time": "2023-03-02T16:54:26.734883",
     "exception": false,
     "start_time": "2023-03-02T16:54:26.712090",
     "status": "completed"
    },
    "tags": []
   },
   "outputs": [
    {
     "data": {
      "text/plain": [
       "array([50.7412843 , 46.649905  , 66.52013279, 40.04500643, 13.02371587,\n",
       "       46.6831763 , 27.2307539 , 49.21530632, 30.88018934, 46.77554428,\n",
       "       36.94386357, 16.59153492, 54.92634455, 41.32011331, 28.58076887,\n",
       "       27.03513731, 32.8771053 , 23.22350876, 40.40838059, 28.36996293,\n",
       "       40.81490458, 29.43745463, 43.34679679,  7.34031104, 37.20010289,\n",
       "       36.23023549, 10.9537096 , 50.28343012, 44.0984219 , 13.65465718,\n",
       "       42.50350564, 37.27976835, 41.42062834, 50.74602338, 16.20747114,\n",
       "       38.33759423, 30.45013676, 46.52651508,  8.39291923, 44.47889268,\n",
       "       18.90299299, -2.61028435, 38.06623665, 56.76765897,  7.39992462,\n",
       "       63.32684737, 52.53038168, 49.54561733, 26.47874144,  2.08503489,\n",
       "       46.92684801, 44.33073949, 25.83398927, 19.77326764, 46.99921676,\n",
       "       39.49095058, 25.0898976 , 13.93641792, 33.63737895, 25.35554177,\n",
       "       46.37071833, 13.87250567, 35.87107098, 53.56619995, 29.15326154,\n",
       "       23.01057497, 39.56694696, 18.18251632, 29.82437371, 24.34571037,\n",
       "        8.48212818, 24.43629249,  3.94293742, 36.89219161, 29.95043711,\n",
       "        6.14904258, 53.44728366, 49.92277918, 60.56048165,  9.47379126,\n",
       "       35.8994364 , 46.0829888 , 41.00403335, 33.77727753, 58.51176501,\n",
       "       40.04500643, 32.26113578, 40.7533056 , 28.58959034, 19.75250951,\n",
       "       34.45916281, 71.35096562, 10.18683225, 47.50926875, 45.1258901 ,\n",
       "       41.00019913, 26.04332789, 36.67364331, 19.64229367, 38.86722248,\n",
       "       27.76454898, 46.92456959, 45.28951314, 26.68330525, 82.65251705,\n",
       "       12.1323742 , 45.7014869 , 35.86122146, 33.77015216, 59.81608827,\n",
       "       41.08487801, 44.3410656 , 26.79961618, 36.73594184, 43.85566578,\n",
       "       67.53817883, 19.85215576, 37.12747357, 52.46479018, 45.21743554,\n",
       "       29.27692653, 31.58158997, 40.41145569, 37.08315398, 25.53413231,\n",
       "       40.07290224, 47.11175698, 51.60226365, 45.56080491, 40.00908045,\n",
       "       13.70524424, 32.8577537 , 19.4037783 , 65.52419048,  4.19226846,\n",
       "       56.28396681, 31.1566295 , 37.14060539, 19.77647745, 33.55584341,\n",
       "       31.19502329, 36.42878105, 16.22818399, 35.65778522, 51.98286748,\n",
       "       44.84948989, 27.48442146, 18.74615247,  1.78802066, 18.72863831,\n",
       "       38.64804543, 22.20091238, 44.68052064, 25.40473155, 45.71397165,\n",
       "       37.77113921, 31.95683954, 67.7897158 , 46.649905  , 49.28255679,\n",
       "       17.03248266, 64.22674046, 31.86348488, 48.00822651, 44.99736508,\n",
       "       61.08666399, 52.60271888, 24.1508578 , 50.30718061, 20.74415997,\n",
       "       39.70664796, 13.72350777, 19.69094323, 36.83713451, 37.93137518,\n",
       "       17.19075973, 29.21147118, 45.28752961, 49.49260669, 46.68520088,\n",
       "       30.57288493, 28.40710256, 59.71237421, 46.2778009 , 40.41775365,\n",
       "       51.21948546, 28.62113291, 33.76615999, 35.23361297, 17.70146661,\n",
       "       38.07562207, 41.52329303, 39.23503375, 46.94575305, 42.25998482,\n",
       "       29.58292543, 46.11077381, 22.30141127, 24.37662248, 28.12951298,\n",
       "       43.76911094, 67.53817883, 22.33514509, 43.54852309, 64.17675127,\n",
       "       41.29330973])"
      ]
     },
     "execution_count": 12,
     "metadata": {},
     "output_type": "execute_result"
    }
   ],
   "source": [
    "lr = LinearRegression()\n",
    "lr.fit(x_train_transformed,y_train)\n",
    "lr.predict(x_test_transformed)"
   ]
  },
  {
   "cell_type": "code",
   "execution_count": 13,
   "id": "51a1751c",
   "metadata": {
    "execution": {
     "iopub.execute_input": "2023-03-02T16:54:26.748917Z",
     "iopub.status.busy": "2023-03-02T16:54:26.747786Z",
     "iopub.status.idle": "2023-03-02T16:54:26.754841Z",
     "shell.execute_reply": "2023-03-02T16:54:26.753327Z"
    },
    "papermill": {
     "duration": 0.016762,
     "end_time": "2023-03-02T16:54:26.757453",
     "exception": false,
     "start_time": "2023-03-02T16:54:26.740691",
     "status": "completed"
    },
    "tags": []
   },
   "outputs": [],
   "source": [
    "y_pred = lr.predict(x_test_transformed)"
   ]
  },
  {
   "cell_type": "code",
   "execution_count": 14,
   "id": "6971e6c6",
   "metadata": {
    "execution": {
     "iopub.execute_input": "2023-03-02T16:54:26.770660Z",
     "iopub.status.busy": "2023-03-02T16:54:26.770229Z",
     "iopub.status.idle": "2023-03-02T16:54:26.778837Z",
     "shell.execute_reply": "2023-03-02T16:54:26.777375Z"
    },
    "papermill": {
     "duration": 0.018315,
     "end_time": "2023-03-02T16:54:26.781466",
     "exception": false,
     "start_time": "2023-03-02T16:54:26.763151",
     "status": "completed"
    },
    "tags": []
   },
   "outputs": [
    {
     "data": {
      "text/plain": [
       "0.7912736991498317"
      ]
     },
     "execution_count": 14,
     "metadata": {},
     "output_type": "execute_result"
    }
   ],
   "source": [
    "r2_score(y_pred,y_test)"
   ]
  },
  {
   "cell_type": "code",
   "execution_count": 15,
   "id": "1867b39f",
   "metadata": {
    "execution": {
     "iopub.execute_input": "2023-03-02T16:54:26.795060Z",
     "iopub.status.busy": "2023-03-02T16:54:26.794589Z",
     "iopub.status.idle": "2023-03-02T16:54:26.814653Z",
     "shell.execute_reply": "2023-03-02T16:54:26.813319Z"
    },
    "papermill": {
     "duration": 0.03059,
     "end_time": "2023-03-02T16:54:26.817733",
     "exception": false,
     "start_time": "2023-03-02T16:54:26.787143",
     "status": "completed"
    },
    "tags": []
   },
   "outputs": [
    {
     "data": {
      "text/plain": [
       "0.7941782180737021"
      ]
     },
     "execution_count": 15,
     "metadata": {},
     "output_type": "execute_result"
    }
   ],
   "source": [
    "cross_val_score(lr,x_train_transformed,y_train,scoring='r2').mean()"
   ]
  },
  {
   "cell_type": "code",
   "execution_count": 16,
   "id": "aa589cd1",
   "metadata": {
    "execution": {
     "iopub.execute_input": "2023-03-02T16:54:26.831518Z",
     "iopub.status.busy": "2023-03-02T16:54:26.831068Z",
     "iopub.status.idle": "2023-03-02T16:54:27.388425Z",
     "shell.execute_reply": "2023-03-02T16:54:27.387210Z"
    },
    "papermill": {
     "duration": 0.567312,
     "end_time": "2023-03-02T16:54:27.391023",
     "exception": false,
     "start_time": "2023-03-02T16:54:26.823711",
     "status": "completed"
    },
    "tags": []
   },
   "outputs": [
    {
     "name": "stderr",
     "output_type": "stream",
     "text": [
      "/opt/conda/lib/python3.7/site-packages/ipykernel_launcher.py:3: UserWarning: \n",
      "\n",
      "`distplot` is a deprecated function and will be removed in seaborn v0.14.0.\n",
      "\n",
      "Please adapt your code to use either `displot` (a figure-level function with\n",
      "similar flexibility) or `histplot` (an axes-level function for histograms).\n",
      "\n",
      "For a guide to updating your code to use the new functions, please see\n",
      "https://gist.github.com/mwaskom/de44147ed2974457ad6372750bbe5751\n",
      "\n",
      "  This is separate from the ipykernel package so we can avoid doing imports until\n",
      "/opt/conda/lib/python3.7/site-packages/ipykernel_launcher.py:7: UserWarning: \n",
      "\n",
      "`distplot` is a deprecated function and will be removed in seaborn v0.14.0.\n",
      "\n",
      "Please adapt your code to use either `displot` (a figure-level function with\n",
      "similar flexibility) or `histplot` (an axes-level function for histograms).\n",
      "\n",
      "For a guide to updating your code to use the new functions, please see\n",
      "https://gist.github.com/mwaskom/de44147ed2974457ad6372750bbe5751\n",
      "\n",
      "  import sys\n"
     ]
    },
    {
     "data": {
      "image/png": "[encoded data removed]",
      "text/plain": [
       "<Figure size 1400x400 with 2 Axes>"
      ]
     },
     "metadata": {},
     "output_type": "display_data"
    }
   ],
   "source": [
    "plt.figure(figsize=(14,4))\n",
    "plt.subplot(121)\n",
    "sns.distplot(x_train_transformed)\n",
    "plt.title('after power')\n",
    "\n",
    "plt.subplot(122)\n",
    "sns.distplot(x_train)\n",
    "plt.title(\"before log\")\n",
    "plt.show()"
   ]
  },
  {
   "cell_type": "code",
   "execution_count": null,
   "id": "1f0fa11e",
   "metadata": {
    "papermill": {
     "duration": 0.006314,
     "end_time": "2023-03-02T16:54:27.403984",
     "exception": false,
     "start_time": "2023-03-02T16:54:27.397670",
     "status": "completed"
    },
    "tags": []
   },
   "outputs": [],
   "source": []
  }
 ],
 "metadata": {
  "kernelspec": {
   "display_name": "Python 3",
   "language": "python",
   "name": "python3"
  },
  "language_info": {
   "codemirror_mode": {
    "name": "ipython",
    "version": 3
   },
   "file_extension": ".py",
   "mimetype": "text/x-python",
   "name": "python",
   "nbconvert_exporter": "python",
   "pygments_lexer": "ipython3",
   "version": "3.7.12"
  },
  "papermill": {
   "default_parameters": {},
   "duration": 14.812458,
   "end_time": "2023-03-02T16:54:28.235188",
   "environment_variables": {},
   "exception": null,
   "input_path": "__notebook__.ipynb",
   "output_path": "__notebook__.ipynb",
   "parameters": {},
   "start_time": "2023-03-02T16:54:13.422730",
   "version": "2.4.0"
  }
 },
 "nbformat": 4,
 "nbformat_minor": 5
}
